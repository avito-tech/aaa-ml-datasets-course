{
 "cells": [
  {
   "cell_type": "code",
   "execution_count": 1,
   "id": "6dc129ce",
   "metadata": {},
   "outputs": [
    {
     "data": {
      "text/plain": [
       "True"
      ]
     },
     "execution_count": 1,
     "metadata": {},
     "output_type": "execute_result"
    }
   ],
   "source": [
    "%load_ext autoreload\n",
    "%autoreload 2\n",
    "%config Completer.use_jedi = False\n",
    "\n",
    "import os\n",
    "from getpass import getpass\n",
    "import pandas as pd\n",
    "import json\n",
    "import re\n",
    "from tqdm import tqdm\n",
    "from sklearn.metrics import classification_report\n",
    "from json.decoder import JSONDecodeError\n",
    "\n",
    "import nest_asyncio\n",
    "from dotenv import load_dotenv\n",
    "from together import Together\n",
    "\n",
    "pd.set_option('max_colwidth', 400)\n",
    "\n",
    "nest_asyncio.apply()\n",
    "\n",
    "load_dotenv('/app/data_generation/.env', verbose=True)"
   ]
  },
  {
   "cell_type": "markdown",
   "id": "3d5ea00c-4444-4bc5-bb8b-3e5769b434eb",
   "metadata": {},
   "source": [
    "Для простоты мы будем использовать API сервиса Together. При [регистрации](https://www.together.ai/) вы получите бесплатные кредиты на сумму 1$, чего должно быть достаточно для выполнения этой домашней работы. После регистрации вы сможете получить свой персональный API-ключ.\n",
    "\n",
    "Для добавления переменной API_KEY при использовании load_dotenv, вам нужно:\n",
    "\n",
    "* Создать файл .env в той же директории, где находится ваш ноутбук, и добавить в него следующую строку:\n",
    "\n",
    "    `API_KEY=ваш_ключ_api_здесь`\n",
    "* После этого, когда вы вызываете load_dotenv(), переменная будет загружена в окружение и доступна через os.environ.get('API_KEY')."
   ]
  },
  {
   "cell_type": "code",
   "execution_count": 3,
   "id": "d7e451b2",
   "metadata": {},
   "outputs": [],
   "source": [
    "api_key = os.environ.get('API_KEY')\n",
    "client = Together(api_key=api_key)"
   ]
  },
  {
   "cell_type": "code",
   "execution_count": 4,
   "id": "16bb9b4f",
   "metadata": {},
   "outputs": [],
   "source": [
    "def get_completion(prompt: str, system_prompt=\"\"):\n",
    "    response = client.chat.completions.create(\n",
    "        model=\"meta-llama/Llama-3.3-70B-Instruct-Turbo\",\n",
    "        messages=[\n",
    "            {\n",
    "                    \"role\": \"system\",\n",
    "                    \"content\": system_prompt\n",
    "            },\n",
    "            {\n",
    "                    \"role\": \"user\",\n",
    "                    \"content\": prompt\n",
    "            },\n",
    "    ],\n",
    "        max_tokens=1000,\n",
    "        temperature=0.0,\n",
    "        top_p=0,\n",
    "        top_k=0,\n",
    "        repetition_penalty=1,\n",
    "        stop=[\"<|eot_id|>\",\"<|eom_id|>\"],\n",
    "        stream=False\n",
    "    )\n",
    "    return response.choices[0].message.content"
   ]
  },
  {
   "cell_type": "code",
   "execution_count": 5,
   "id": "3d1cb1e7-3ce9-4280-83a7-ab62f502dafd",
   "metadata": {},
   "outputs": [
    {
     "data": {
      "text/plain": [
       "'Привет! Как я могу вам помочь сегодня?'"
      ]
     },
     "execution_count": 5,
     "metadata": {},
     "output_type": "execute_result"
    }
   ],
   "source": [
    "get_completion(\"Привет!\")"
   ]
  },
  {
   "cell_type": "markdown",
   "id": "f6489a19",
   "metadata": {},
   "source": [
    "## Предсказание категории"
   ]
  },
  {
   "cell_type": "code",
   "execution_count": 6,
   "id": "06319949",
   "metadata": {},
   "outputs": [],
   "source": [
    "categories = [\n",
    " 'Ролики и скейтбординг',\n",
    " 'Настольные игры',\n",
    " 'Теннис бадминтон пинг-понг',\n",
    " 'Пейнтбол и страйкбол',\n",
    " 'Единоборства',\n",
    " 'Бильярд и боулинг',\n",
    " 'Фитнес и тренажёры',\n",
    " 'Туризм',\n",
    " 'Игры с мячом',\n",
    " 'Зимние виды спорта',\n",
    " 'Дайвинг и водный спорт',\n",
    " 'Спортивное питание'\n",
    "]\n",
    "\n",
    "system_prompt = \"\"\"Твоя задача - выбрать наиболее подходящую категорию (даже если информации недостаточно - \n",
    "необходимо строго одну из списка) к товару пользователя по его текстовому описанию. \n",
    "Верни свой ответ в формате JSON следующего вида - {\"category\": \"answer\"}\n",
    "Вот список категорий, из которых ты должен выбрать одну - \n",
    "\"\"\" + ';'.join(categories)"
   ]
  },
  {
   "cell_type": "code",
   "execution_count": 7,
   "id": "c99a9ff7",
   "metadata": {},
   "outputs": [
    {
     "data": {
      "text/html": [
       "<div>\n",
       "<style scoped>\n",
       "    .dataframe tbody tr th:only-of-type {\n",
       "        vertical-align: middle;\n",
       "    }\n",
       "\n",
       "    .dataframe tbody tr th {\n",
       "        vertical-align: top;\n",
       "    }\n",
       "\n",
       "    .dataframe thead th {\n",
       "        text-align: right;\n",
       "    }\n",
       "</style>\n",
       "<table border=\"1\" class=\"dataframe\">\n",
       "  <thead>\n",
       "    <tr style=\"text-align: right;\">\n",
       "      <th></th>\n",
       "      <th>title</th>\n",
       "      <th>item_id</th>\n",
       "    </tr>\n",
       "  </thead>\n",
       "  <tbody>\n",
       "    <tr>\n",
       "      <th>108</th>\n",
       "      <td>Детские ролики и защита</td>\n",
       "      <td>108</td>\n",
       "    </tr>\n",
       "    <tr>\n",
       "      <th>123</th>\n",
       "      <td>Обруч халахуп</td>\n",
       "      <td>123</td>\n",
       "    </tr>\n",
       "    <tr>\n",
       "      <th>90</th>\n",
       "      <td>Кимоно Kudo wear б/у</td>\n",
       "      <td>90</td>\n",
       "    </tr>\n",
       "    <tr>\n",
       "      <th>3</th>\n",
       "      <td>Юнион 27” abec 7 - полный аналог Penny Nikel</td>\n",
       "      <td>3</td>\n",
       "    </tr>\n",
       "    <tr>\n",
       "      <th>28</th>\n",
       "      <td>Поповский кий Баринова черный эбен</td>\n",
       "      <td>28</td>\n",
       "    </tr>\n",
       "    <tr>\n",
       "      <th>137</th>\n",
       "      <td>Байдарка Свирь-Н</td>\n",
       "      <td>137</td>\n",
       "    </tr>\n",
       "    <tr>\n",
       "      <th>101</th>\n",
       "      <td>Темляки Swix triac L на доставке</td>\n",
       "      <td>101</td>\n",
       "    </tr>\n",
       "    <tr>\n",
       "      <th>93</th>\n",
       "      <td>Шарики для пинг-понга</td>\n",
       "      <td>93</td>\n",
       "    </tr>\n",
       "    <tr>\n",
       "      <th>107</th>\n",
       "      <td>Разгрузочный жилет / разгрузка</td>\n",
       "      <td>107</td>\n",
       "    </tr>\n",
       "    <tr>\n",
       "      <th>62</th>\n",
       "      <td>Санки тимка 5 универсал с колесами</td>\n",
       "      <td>62</td>\n",
       "    </tr>\n",
       "  </tbody>\n",
       "</table>\n",
       "</div>"
      ],
      "text/plain": [
       "                                            title  item_id\n",
       "108                       Детские ролики и защита      108\n",
       "123                                 Обруч халахуп      123\n",
       "90                           Кимоно Kudo wear б/у       90\n",
       "3    Юнион 27” abec 7 - полный аналог Penny Nikel        3\n",
       "28             Поповский кий Баринова черный эбен       28\n",
       "137                              Байдарка Свирь-Н      137\n",
       "101              Темляки Swix triac L на доставке      101\n",
       "93                          Шарики для пинг-понга       93\n",
       "107                Разгрузочный жилет / разгрузка      107\n",
       "62             Санки тимка 5 универсал с колесами       62"
      ]
     },
     "execution_count": 7,
     "metadata": {},
     "output_type": "execute_result"
    }
   ],
   "source": [
    "# test_df лежит на каггле в разделе Data\n",
    "test_df = pd.read_csv('test_df_llm_generation.csv')[['title', 'item_id']]\n",
    "test_df.sample(10)"
   ]
  },
  {
   "cell_type": "code",
   "execution_count": 16,
   "id": "3b230993",
   "metadata": {},
   "outputs": [],
   "source": [
    "def process_dataframe_with_cache(test_df, system_prompt, cache_file='answer_cache.json'):\n",
    "    key_to_answer = {}\n",
    "    if os.path.exists(cache_file):\n",
    "        with open(cache_file, 'r', encoding='utf-8') as f:\n",
    "            key_to_answer = json.load(f)\n",
    "    answers = []\n",
    "    \n",
    "    for i, row in tqdm(test_df.iterrows(), total=len(test_df)):\n",
    "        title = row['title']\n",
    "        item_id = row['item_id']\n",
    "        key = f\"{system_prompt}_{title}\"\n",
    "        \n",
    "        if key in key_to_answer:\n",
    "            answer = key_to_answer[key]\n",
    "        else:\n",
    "            prompt = system_prompt + f\"\\n<text>{title}</text>\"\n",
    "            answer = get_completion(prompt)\n",
    "            key_to_answer[key] = answer\n",
    "            # Сохраняем кэш после каждого нового ответа\n",
    "            with open(cache_file, 'w', encoding='utf-8') as f:\n",
    "                json.dump(key_to_answer, f, ensure_ascii=False, indent=2)\n",
    "        answers.append(answer)\n",
    "    \n",
    "    return answers"
   ]
  },
  {
   "cell_type": "code",
   "execution_count": 17,
   "id": "ac448a15",
   "metadata": {},
   "outputs": [
    {
     "name": "stderr",
     "output_type": "stream",
     "text": [
      "100%|██████████| 147/147 [01:26<00:00,  1.71it/s]\n"
     ]
    }
   ],
   "source": [
    "answers = process_dataframe_with_cache(test_df, system_prompt)\n",
    "predicted_categories = []\n",
    "for answer in answers:\n",
    "    try:\n",
    "        answer = json.loads(answer)\n",
    "        predicted_category = answer['category']\n",
    "    except JSONDecodeError as e:\n",
    "        predicted_category = 'other'\n",
    "    predicted_categories.append(predicted_category)"
   ]
  },
  {
   "cell_type": "code",
   "execution_count": 35,
   "id": "11102461",
   "metadata": {
    "scrolled": true
   },
   "outputs": [],
   "source": [
    "test_df_gpt = test_df.copy()\n",
    "test_df_gpt['category'] = predicted_categories\n",
    "test_df_gpt[['item_id', 'category']].to_csv('test_df_to_upload.csv', index=False)"
   ]
  },
  {
   "cell_type": "markdown",
   "id": "c25e7b3c-cefa-41e9-8a89-d35c6da89072",
   "metadata": {},
   "source": [
    "### Ваше решение"
   ]
  }
 ],
 "metadata": {
  "kernelspec": {
   "display_name": "Python 3 (ipykernel)",
   "language": "python",
   "name": "python3"
  },
  "language_info": {
   "codemirror_mode": {
    "name": "ipython",
    "version": 3
   },
   "file_extension": ".py",
   "mimetype": "text/x-python",
   "name": "python",
   "nbconvert_exporter": "python",
   "pygments_lexer": "ipython3",
   "version": "3.9.22"
  }
 },
 "nbformat": 4,
 "nbformat_minor": 5
}
